{
 "cells": [
  {
   "cell_type": "code",
   "execution_count": 1,
   "id": "341884c1",
   "metadata": {},
   "outputs": [],
   "source": [
    "import pandas as pd\n",
    "import numpy as np\n",
    "import seaborn as sns"
   ]
  },
  {
   "cell_type": "code",
   "execution_count": 18,
   "id": "d98d7ff2",
   "metadata": {},
   "outputs": [
    {
     "name": "stdout",
     "output_type": "stream",
     "text": [
      "<class 'pandas.core.frame.DataFrame'>\n",
      "RangeIndex: 375 entries, 0 to 374\n",
      "Data columns (total 2 columns):\n",
      " #   Column               Non-Null Count  Dtype  \n",
      "---  ------               --------------  -----  \n",
      " 0   Years of Experience  373 non-null    float64\n",
      " 1   Salary               373 non-null    float64\n",
      "dtypes: float64(2)\n",
      "memory usage: 6.0 KB\n"
     ]
    }
   ],
   "source": [
    "df = pd.read_csv('datasets/ETData - ETData.csv')\n",
    "df.info()"
   ]
  },
  {
   "cell_type": "code",
   "execution_count": 13,
   "id": "2e7f9c5a",
   "metadata": {},
   "outputs": [],
   "source": [
    "def error_function(data, m, b):\n",
    "    total_error = 0\n",
    "    n = len(data)\n",
    "    for i in range(n):\n",
    "        x = data.iloc[i]['Years of Experience']\n",
    "        y = data.iloc[i]['Salary']\n",
    "        total_error += (y - (m * x) + b) ** 2\n",
    "    return total_error\n",
    "    "
   ]
  },
  {
   "cell_type": "code",
   "execution_count": 14,
   "id": "653a076f",
   "metadata": {},
   "outputs": [],
   "source": [
    "def descend(data, m_now, b_now, lr):\n",
    "    m_gradient = 0\n",
    "    b_gradient = 0\n",
    "    n = len(data)\n",
    "    \n",
    "    for i in range(n):\n",
    "        x = data.iloc[i]['Years of Experience']\n",
    "        y = data.iloc[i]['Salary']\n",
    "        \n",
    "        m_gradient += -(2/n) * x * (y - (m_now) * x + b_now)\n",
    "        b_gradient += -(2/n) * (y - (m_now) * x + b_now)\n",
    "        \n",
    "    m = m_now - (m_gradient * lr)\n",
    "    b = b_now - (b_gradient * lr)\n",
    "    return m, b"
   ]
  },
  {
   "cell_type": "code",
   "execution_count": 17,
   "id": "259ea399",
   "metadata": {},
   "outputs": [
    {
     "name": "stdout",
     "output_type": "stream",
     "text": [
      "Total error: nan\n",
      "Total error: nan\n",
      "Total error: nan\n",
      "Total error: nan\n",
      "Total error: nan\n",
      "Total error: nan\n",
      "Total error: nan\n",
      "Total error: nan\n",
      "nan nan\n"
     ]
    }
   ],
   "source": [
    "m = 0\n",
    "b = 0\n",
    "L = 0.00001\n",
    "epochs = 400\n",
    "\n",
    "for i in range(epochs):\n",
    "    m, b = descend(df, m, b, L)\n",
    "    if i % 50 == 0:\n",
    "        print(\"Total error: \" + str(error_function(df, m, b)))\n",
    "    \n",
    "print(m, b)7"
   ]
  },
  {
   "cell_type": "code",
   "execution_count": null,
   "id": "5e470338",
   "metadata": {},
   "outputs": [],
   "source": []
  }
 ],
 "metadata": {
  "kernelspec": {
   "display_name": "Python 3 (ipykernel)",
   "language": "python",
   "name": "python3"
  },
  "language_info": {
   "codemirror_mode": {
    "name": "ipython",
    "version": 3
   },
   "file_extension": ".py",
   "mimetype": "text/x-python",
   "name": "python",
   "nbconvert_exporter": "python",
   "pygments_lexer": "ipython3",
   "version": "3.9.13"
  }
 },
 "nbformat": 4,
 "nbformat_minor": 5
}
